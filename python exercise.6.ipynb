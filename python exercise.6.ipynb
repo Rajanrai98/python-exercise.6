{
 "cells": [
  {
   "cell_type": "code",
   "execution_count": 2,
   "id": "87229455",
   "metadata": {},
   "outputs": [
    {
     "name": "stdout",
     "output_type": "stream",
     "text": [
      "enter the number:153\n",
      "Armstrong number:\n"
     ]
    }
   ],
   "source": [
    "num = int(input(\"enter the number:\"))\n",
    "sum = 0\n",
    "temp = num\n",
    "while temp>0:\n",
    "    digit = temp%10\n",
    "    cubic = digit**3\n",
    "    sum = sum+cubic\n",
    "    temp//=10\n",
    "    if sum==num:\n",
    "        print(\"Armstrong number:\")\n",
    "        break\n",
    "else:\n",
    "    print(\"this is not a armstrong number\")"
   ]
  },
  {
   "cell_type": "code",
   "execution_count": 4,
   "id": "8617514e",
   "metadata": {},
   "outputs": [
    {
     "name": "stdout",
     "output_type": "stream",
     "text": [
      "3\n"
     ]
    }
   ],
   "source": [
    "vowels = [\"a\",\"i\",\"o\",\"u\",\"e\"]\n",
    "words = \"programming\"\n",
    "count = 0\n",
    "for letter in words:\n",
    "    if letter in vowels:\n",
    "        count+=1\n",
    "print(count)\n",
    "       "
   ]
  },
  {
   "cell_type": "code",
   "execution_count": 6,
   "id": "e4bdc38d",
   "metadata": {},
   "outputs": [
    {
     "name": "stdout",
     "output_type": "stream",
     "text": [
      "1\n",
      "3\n",
      "5\n",
      "7\n",
      "9\n",
      "11\n",
      "13\n",
      "15\n",
      "17\n",
      "19\n",
      "21\n",
      "23\n",
      "25\n",
      "27\n",
      "29\n",
      "31\n",
      "33\n",
      "35\n",
      "37\n",
      "39\n",
      "41\n",
      "43\n",
      "45\n",
      "47\n",
      "49\n"
     ]
    }
   ],
   "source": [
    "numbers = 1\n",
    "count = 1\n",
    "while count<=25:\n",
    "    if numbers%2!=0:\n",
    "        print(numbers)\n",
    "        count+=1\n",
    "    numbers+=1\n",
    "    "
   ]
  },
  {
   "cell_type": "code",
   "execution_count": 7,
   "id": "5468fefc",
   "metadata": {},
   "outputs": [],
   "source": [
    "def remove_duplicates(lst):\n",
    "    return list(dict.fromkeys(lst))"
   ]
  },
  {
   "cell_type": "code",
   "execution_count": 10,
   "id": "2d859cd7",
   "metadata": {},
   "outputs": [
    {
     "data": {
      "text/plain": [
       "[1, 2, 3, 4, 5, 6, 7, 88, 12]"
      ]
     },
     "execution_count": 10,
     "metadata": {},
     "output_type": "execute_result"
    }
   ],
   "source": [
    "lst1 = [1,2,3,4,5,6,7,88,3,12,3,4,2,1,1,3,4]\n",
    "remove_duplicates(lst1)"
   ]
  },
  {
   "cell_type": "code",
   "execution_count": 13,
   "id": "1ac601cb",
   "metadata": {},
   "outputs": [
    {
     "name": "stdout",
     "output_type": "stream",
     "text": [
      "    * \n",
      "   * * \n",
      "  * * * \n",
      " * * * * \n",
      "* * * * * \n"
     ]
    }
   ],
   "source": [
    "rows = 5\n",
    "for i in range(0,rows):\n",
    "    for j in range(0,rows-i-1):\n",
    "        print(end = \" \")\n",
    "    for k in range(0,i+1):\n",
    "        print(\"*\",end = \" \")\n",
    "    print()\n",
    "    "
   ]
  },
  {
   "cell_type": "code",
   "execution_count": null,
   "id": "9e5b73ac",
   "metadata": {},
   "outputs": [],
   "source": []
  }
 ],
 "metadata": {
  "kernelspec": {
   "display_name": "Python 3 (ipykernel)",
   "language": "python",
   "name": "python3"
  },
  "language_info": {
   "codemirror_mode": {
    "name": "ipython",
    "version": 3
   },
   "file_extension": ".py",
   "mimetype": "text/x-python",
   "name": "python",
   "nbconvert_exporter": "python",
   "pygments_lexer": "ipython3",
   "version": "3.10.9"
  }
 },
 "nbformat": 4,
 "nbformat_minor": 5
}
